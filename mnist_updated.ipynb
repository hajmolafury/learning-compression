{
  "nbformat": 4,
  "nbformat_minor": 0,
  "metadata": {
    "colab": {
      "name": "Copy of mnist.ipynb",
      "version": "0.3.2",
      "provenance": [],
      "collapsed_sections": [],
      "include_colab_link": true
    },
    "kernelspec": {
      "display_name": "Python 3",
      "language": "python",
      "name": "python3"
    },
    "accelerator": "GPU"
  },
  "cells": [
    {
      "cell_type": "markdown",
      "metadata": {
        "id": "view-in-github",
        "colab_type": "text"
      },
      "source": [
        "[View in Colaboratory](https://colab.research.google.com/github/hajmolafury/learning-compression/blob/master/mnist_updated.ipynb)"
      ]
    },
    {
      "metadata": {
        "id": "b4MzWcfRyIwz",
        "colab_type": "code",
        "colab": {}
      },
      "cell_type": "code",
      "source": [
        "import os\n",
        "os.environ['TF_CPP_MIN_LOG_LEVEL']='2'"
      ],
      "execution_count": 0,
      "outputs": []
    },
    {
      "metadata": {
        "id": "Y04D9v5iyIw4",
        "colab_type": "code",
        "colab": {}
      },
      "cell_type": "code",
      "source": [
        "import time\n",
        "import tensorflow as tf\n",
        "from tensorflow.examples.tutorials.mnist import input_data\n",
        "import numpy as np\n",
        "\n",
        "from plotly.offline import download_plotlyjs, init_notebook_mode, plot, iplot\n",
        "import plotly\n",
        "plotly.tools.set_credentials_file(username='ymehta95', api_key='TVHPG5E24omQeUyWougP')\n",
        "import plotly.plotly as py\n",
        "import plotly.graph_objs as go\n",
        "\n",
        "#To install plotpy library:\n",
        "#pip install plotly --upgrade"
      ],
      "execution_count": 0,
      "outputs": []
    },
    {
      "metadata": {
        "id": "4aTlJVisyIw6",
        "colab_type": "code",
        "colab": {
          "base_uri": "https://localhost:8080/",
          "height": 85
        },
        "outputId": "c45af662-2674-4f93-e2e9-5d97c849e7b6"
      },
      "cell_type": "code",
      "source": [
        "mnist = input_data.read_data_sets(\"MNIST_data/\",one_hot=True)"
      ],
      "execution_count": 107,
      "outputs": [
        {
          "output_type": "stream",
          "text": [
            "Extracting MNIST_data/train-images-idx3-ubyte.gz\n",
            "Extracting MNIST_data/train-labels-idx1-ubyte.gz\n",
            "Extracting MNIST_data/t10k-images-idx3-ubyte.gz\n",
            "Extracting MNIST_data/t10k-labels-idx1-ubyte.gz\n"
          ],
          "name": "stdout"
        }
      ]
    },
    {
      "metadata": {
        "id": "YRJPnDogyIw8",
        "colab_type": "code",
        "colab": {}
      },
      "cell_type": "code",
      "source": [
        "nodes_hl1=1000\n",
        "nodes_hl2=1000\n",
        "n_classes=10\n",
        "batch_size=128"
      ],
      "execution_count": 0,
      "outputs": []
    },
    {
      "metadata": {
        "id": "CWOsuxyfyIw9",
        "colab_type": "code",
        "colab": {}
      },
      "cell_type": "code",
      "source": [
        "x=tf.placeholder('float',[None,784])\n",
        "y=tf.placeholder('float')\n",
        "keep_prob=tf.placeholder(tf.float32)"
      ],
      "execution_count": 0,
      "outputs": []
    },
    {
      "metadata": {
        "id": "7QF7v0e_yIw_",
        "colab_type": "code",
        "colab": {}
      },
      "cell_type": "code",
      "source": [
        "def neural_network(data):\n",
        "    hl1={'weights':tf.Variable(tf.random_normal([784,nodes_hl1])),'bias':tf.Variable(tf.random_normal([nodes_hl1]))}\n",
        "    hl2={'weights':tf.Variable(tf.random_normal([nodes_hl1,nodes_hl2])),'bias':tf.Variable(tf.random_normal([nodes_hl2]))}\n",
        "    output_layer={'weights':tf.Variable(tf.random_normal([nodes_hl2,n_classes])),'bias':tf.Variable(tf.random_normal([n_classes]))}\n",
        "    \n",
        "    #Activation function : ReLU\n",
        "    \n",
        "    l1=tf.nn.relu(tf.add(tf.matmul(data,hl1['weights']),hl1['bias']))\n",
        "    l1_dropout=tf.nn.dropout(l1,keep_prob)\n",
        "                                                                                        \n",
        "    l2=tf.nn.relu(tf.add(tf.matmul(l1,hl2['weights']),hl2['bias']))\n",
        "    #l2_dropout=tf.nn.dropout(l2,keep_prob)\n",
        "                                                                                           \n",
        "    output=tf.add(tf.matmul(l2,output_layer['weights']),output_layer['bias'])\n",
        "                                                                                           \n",
        "    return output"
      ],
      "execution_count": 0,
      "outputs": []
    },
    {
      "metadata": {
        "id": "t4VmkgNAyIxA",
        "colab_type": "code",
        "colab": {
          "base_uri": "https://localhost:8080/",
          "height": 34
        },
        "outputId": "86cece0b-8c30-4e5f-c237-e45360947f8e"
      },
      "cell_type": "code",
      "source": [
        "summary_dir = '/tmp/tensorflow/mnist'\n",
        "mnist.validation.num_examples"
      ],
      "execution_count": 111,
      "outputs": [
        {
          "output_type": "execute_result",
          "data": {
            "text/plain": [
              "5000"
            ]
          },
          "metadata": {
            "tags": []
          },
          "execution_count": 111
        }
      ]
    },
    {
      "metadata": {
        "id": "pqfsENPlXTOZ",
        "colab_type": "code",
        "colab": {}
      },
      "cell_type": "code",
      "source": [
        "test_acc_adam=[]\n",
        "test_acc_rmsprop=[]\n",
        "test_acc_sgd=[]"
      ],
      "execution_count": 0,
      "outputs": []
    },
    {
      "metadata": {
        "id": "tSovOmKGyIxF",
        "colab_type": "code",
        "colab": {}
      },
      "cell_type": "code",
      "source": [
        "def train_neural_network(x,optimizer):\n",
        "    prediction=neural_network(x)\n",
        "    cost=tf.reduce_mean(tf.nn.softmax_cross_entropy_with_logits(logits=prediction,labels=y))\n",
        "    if optimizer=='adam':\n",
        "        optimize=tf.train.AdamOptimizer(learning_rate=0.003).minimize(cost)\n",
        "    if optimizer=='sgd':\n",
        "        optimize=tf.train.GradientDescentOptimizer(learning_rate=0.001).minimize(cost)\n",
        "    if optimizer=='rmsprop':\n",
        "        optimize=tf.train.RMSPropOptimizer(learning_rate=0.001,decay=0.9,momentum=0.9).minimize(cost)\n",
        "        \n",
        "   \n",
        "    with tf.Session() as sess:\n",
        "        sess.run(tf.global_variables_initializer())\n",
        "        \n",
        "        for epoch in range(num_epoch):\n",
        "           \n",
        "            for i in range(int(mnist.train.num_examples/batch_size)):\n",
        "                batch_x,batch_y=mnist.train.next_batch(batch_size)\n",
        "                _, c=sess.run([optimize, cost],feed_dict={x:batch_x,y:batch_y,keep_prob:0.8})\n",
        "                epoch_loss[epoch]+=c\n",
        "            \n",
        "                if i%int((int(mnist.train.num_examples/batch_size)/f))==0:\n",
        "                    correct=tf.equal(tf.argmax(prediction,1),tf.argmax(y,1))\n",
        "                    accuracy=tf.reduce_mean(tf.cast(correct,'float'))\n",
        "                    val_acc.append(accuracy.eval({x:mnist.validation.images,y:mnist.validation.labels,keep_prob:1}))\n",
        "                    train_acc.append(accuracy.eval({x:mnist.train.images,y:mnist.train.labels,keep_prob:1}))\n",
        "                    test_acc.append(accuracy.eval({x:mnist.test.images,y:mnist.test.labels,keep_prob:1}))\n",
        "            \n",
        "            print ('Epoch', epoch+1,'completed out of',num_epoch,'val acc: ', val_acc[-1])\n",
        "            #print ('train acc: ',train_acc[-1])\n",
        "        print (time.time() - start_time, 'sec\\n')\n",
        "        print('\\nTEST ACC : ',accuracy.eval({x:mnist.test.images,y:mnist.test.labels,keep_prob:1}),'\\n')\n",
        "        \n",
        "    "
      ],
      "execution_count": 0,
      "outputs": []
    },
    {
      "metadata": {
        "id": "B1Q-chPUyIxI",
        "colab_type": "code",
        "colab": {
          "base_uri": "https://localhost:8080/",
          "height": 493
        },
        "outputId": "98d6bf09-be5d-44ed-a6cc-e992fa1d759f"
      },
      "cell_type": "code",
      "source": [
        "num_epoch=20\n",
        "f=2 #frequency : number of times in an epoch we want to measure the accuracy\n",
        "epoch_loss=np.zeros(num_epoch)\n",
        "val_acc=[]\n",
        "train_acc=[]\n",
        "test_acc=[]\n",
        "\n",
        "if __name__==\"__main__\":\n",
        "    start_time=time.time()\n",
        "    train_neural_network(x,'adam')\n",
        "    print (\"Training Over. \\nNow you are a SuperSaiyan\\n\")  \n",
        "    test_acc_adam=test_acc"
      ],
      "execution_count": 114,
      "outputs": [
        {
          "output_type": "stream",
          "text": [
            "Epoch 1 completed out of 20 val acc:  0.9452\n",
            "Epoch 2 completed out of 20 val acc:  0.9542\n",
            "Epoch 3 completed out of 20 val acc:  0.9592\n",
            "Epoch 4 completed out of 20 val acc:  0.9636\n",
            "Epoch 5 completed out of 20 val acc:  0.9678\n",
            "Epoch 6 completed out of 20 val acc:  0.9654\n",
            "Epoch 7 completed out of 20 val acc:  0.9674\n",
            "Epoch 8 completed out of 20 val acc:  0.9714\n",
            "Epoch 9 completed out of 20 val acc:  0.9714\n",
            "Epoch 10 completed out of 20 val acc:  0.9708\n",
            "Epoch 11 completed out of 20 val acc:  0.971\n",
            "Epoch 12 completed out of 20 val acc:  0.9668\n",
            "Epoch 13 completed out of 20 val acc:  0.9734\n",
            "Epoch 14 completed out of 20 val acc:  0.971\n",
            "Epoch 15 completed out of 20 val acc:  0.9742\n",
            "Epoch 16 completed out of 20 val acc:  0.9764\n",
            "Epoch 17 completed out of 20 val acc:  0.973\n",
            "Epoch 18 completed out of 20 val acc:  0.9784\n",
            "Epoch 19 completed out of 20 val acc:  0.9802\n",
            "Epoch 20 completed out of 20 val acc:  0.9726\n",
            "126.46504473686218 sec\n",
            "\n",
            "\n",
            "TEST ACC :  0.9704 \n",
            "\n",
            "Training Over. \n",
            "Now you are a SuperSaiyan\n",
            "\n"
          ],
          "name": "stdout"
        }
      ]
    },
    {
      "metadata": {
        "id": "8U7ccDW4yIxK",
        "colab_type": "code",
        "colab": {}
      },
      "cell_type": "code",
      "source": [
        "x_axis1=np.arange(num_epoch)\n",
        "x_axis2= np.arange(0,num_epoch,1/f)"
      ],
      "execution_count": 0,
      "outputs": []
    },
    {
      "metadata": {
        "id": "lSRSnGqlyIxN",
        "colab_type": "code",
        "colab": {
          "base_uri": "https://localhost:8080/",
          "height": 546
        },
        "outputId": "4f1eead7-9620-4bca-8acb-ece93d3236b2"
      },
      "cell_type": "code",
      "source": [
        "loss_go=go.Scatter(x=x_axis1,y=epoch_loss)\n",
        "val_acc_go=go.Scatter(x=x_axis2[1:],y=val_acc[1:], name='validation accuracy')\n",
        "train_acc_go=go.Scatter(x=x_axis2[1:],y=train_acc[1:], name='training accuracy')\n",
        "test_acc_go=go.Scatter(x=x_axis2[1:],y=test_acc[1:], name='testing accuracy')\n",
        "\n",
        "data=([loss_go])\n",
        "py.iplot(data,filename='adam_loss')"
      ],
      "execution_count": 116,
      "outputs": [
        {
          "output_type": "execute_result",
          "data": {
            "text/html": [
              "<iframe id=\"igraph\" scrolling=\"no\" style=\"border:none;\" seamless=\"seamless\" src=\"https://plot.ly/~ymehta95/24.embed\" height=\"525px\" width=\"100%\"></iframe>"
            ],
            "text/plain": [
              "<plotly.tools.PlotlyDisplay object>"
            ]
          },
          "metadata": {
            "tags": []
          },
          "execution_count": 116
        }
      ]
    },
    {
      "metadata": {
        "id": "nQlPJr2dyIxP",
        "colab_type": "code",
        "colab": {
          "base_uri": "https://localhost:8080/",
          "height": 546
        },
        "outputId": "8dbba3ca-7551-41d2-b1f4-bcd80210b029"
      },
      "cell_type": "code",
      "source": [
        "data=([val_acc_go,train_acc_go,test_acc_go])\n",
        "py.iplot(data,filename='adam_acc')"
      ],
      "execution_count": 117,
      "outputs": [
        {
          "output_type": "execute_result",
          "data": {
            "text/html": [
              "<iframe id=\"igraph\" scrolling=\"no\" style=\"border:none;\" seamless=\"seamless\" src=\"https://plot.ly/~ymehta95/26.embed\" height=\"525px\" width=\"100%\"></iframe>"
            ],
            "text/plain": [
              "<plotly.tools.PlotlyDisplay object>"
            ]
          },
          "metadata": {
            "tags": []
          },
          "execution_count": 117
        }
      ]
    },
    {
      "metadata": {
        "id": "u7gre5E5yIxS",
        "colab_type": "code",
        "colab": {
          "base_uri": "https://localhost:8080/",
          "height": 493
        },
        "outputId": "4f04b146-9682-4e1d-9429-901e151f4ee8"
      },
      "cell_type": "code",
      "source": [
        "#training with RMSprop\n",
        "num_epoch=20\n",
        "f=2\n",
        "epoch_loss=np.zeros(num_epoch)\n",
        "val_acc=[]\n",
        "train_acc=[]\n",
        "test_acc=[]\n",
        "\n",
        "if __name__==\"__main__\":\n",
        "    start_time=time.time()\n",
        "    train_neural_network(x,'rmsprop')\n",
        "    print (\"Training Over. \\nNow you are a SuperSaiyan\\n\")\n",
        "    test_acc_rmsprop=test_acc"
      ],
      "execution_count": 118,
      "outputs": [
        {
          "output_type": "stream",
          "text": [
            "Epoch 1 completed out of 20 val acc:  0.9576\n",
            "Epoch 2 completed out of 20 val acc:  0.9582\n",
            "Epoch 3 completed out of 20 val acc:  0.9592\n",
            "Epoch 4 completed out of 20 val acc:  0.9678\n",
            "Epoch 5 completed out of 20 val acc:  0.9642\n",
            "Epoch 6 completed out of 20 val acc:  0.9632\n",
            "Epoch 7 completed out of 20 val acc:  0.9726\n",
            "Epoch 8 completed out of 20 val acc:  0.9728\n",
            "Epoch 9 completed out of 20 val acc:  0.9706\n",
            "Epoch 10 completed out of 20 val acc:  0.9738\n",
            "Epoch 11 completed out of 20 val acc:  0.9762\n",
            "Epoch 12 completed out of 20 val acc:  0.9738\n",
            "Epoch 13 completed out of 20 val acc:  0.9748\n",
            "Epoch 14 completed out of 20 val acc:  0.9714\n",
            "Epoch 15 completed out of 20 val acc:  0.9774\n",
            "Epoch 16 completed out of 20 val acc:  0.977\n",
            "Epoch 17 completed out of 20 val acc:  0.9746\n",
            "Epoch 18 completed out of 20 val acc:  0.976\n",
            "Epoch 19 completed out of 20 val acc:  0.9738\n",
            "Epoch 20 completed out of 20 val acc:  0.9792\n",
            "128.02450919151306 sec\n",
            "\n",
            "\n",
            "TEST ACC :  0.9766 \n",
            "\n",
            "Training Over. \n",
            "Now you are a SuperSaiyan\n",
            "\n"
          ],
          "name": "stdout"
        }
      ]
    },
    {
      "metadata": {
        "id": "o8ebKdHyyIxW",
        "colab_type": "code",
        "colab": {
          "base_uri": "https://localhost:8080/",
          "height": 546
        },
        "outputId": "7c24db23-27fa-4a07-9205-6725547de065"
      },
      "cell_type": "code",
      "source": [
        "loss_go=go.Scatter(x=x_axis1,y=epoch_loss)\n",
        "val_acc_go=go.Scatter(x=x_axis2[1:],y=val_acc[1:], name='validation accuracy')\n",
        "train_acc_go=go.Scatter(x=x_axis2[1:],y=train_acc[1:], name='training accuracy')\n",
        "test_acc_go=go.Scatter(x=x_axis2[1:],y=test_acc[1:], name='testing accuracy')\n",
        "\n",
        "data=([loss_go])\n",
        "py.iplot(data,filename='rms_loss')"
      ],
      "execution_count": 119,
      "outputs": [
        {
          "output_type": "execute_result",
          "data": {
            "text/html": [
              "<iframe id=\"igraph\" scrolling=\"no\" style=\"border:none;\" seamless=\"seamless\" src=\"https://plot.ly/~ymehta95/28.embed\" height=\"525px\" width=\"100%\"></iframe>"
            ],
            "text/plain": [
              "<plotly.tools.PlotlyDisplay object>"
            ]
          },
          "metadata": {
            "tags": []
          },
          "execution_count": 119
        }
      ]
    },
    {
      "metadata": {
        "id": "rfnRp6w4yIxZ",
        "colab_type": "code",
        "colab": {
          "base_uri": "https://localhost:8080/",
          "height": 546
        },
        "outputId": "9256eebd-9d53-4ead-8b31-460bd19467ef"
      },
      "cell_type": "code",
      "source": [
        "data=([val_acc_go,train_acc_go,test_acc_go])\n",
        "py.iplot(data,filename='rms_acc')"
      ],
      "execution_count": 120,
      "outputs": [
        {
          "output_type": "execute_result",
          "data": {
            "text/html": [
              "<iframe id=\"igraph\" scrolling=\"no\" style=\"border:none;\" seamless=\"seamless\" src=\"https://plot.ly/~ymehta95/30.embed\" height=\"525px\" width=\"100%\"></iframe>"
            ],
            "text/plain": [
              "<plotly.tools.PlotlyDisplay object>"
            ]
          },
          "metadata": {
            "tags": []
          },
          "execution_count": 120
        }
      ]
    },
    {
      "metadata": {
        "id": "GqybvNa2yIxc",
        "colab_type": "code",
        "colab": {
          "base_uri": "https://localhost:8080/",
          "height": 493
        },
        "outputId": "2a8729dc-6c84-43e7-ca46-2c876e951c72"
      },
      "cell_type": "code",
      "source": [
        "#training with SGD\n",
        "num_epoch=20\n",
        "f=2\n",
        "epoch_loss=np.zeros(num_epoch)\n",
        "val_acc=[]\n",
        "train_acc=[]\n",
        "test_acc=[]\n",
        "\n",
        "if __name__==\"__main__\":\n",
        "    start_time=time.time()\n",
        "    train_neural_network(x,'sgd')\n",
        "    print (\"Training Over. \\nNow you are a SuperSaiyan\\n\")\n",
        "    test_acc_sgd=test_acc"
      ],
      "execution_count": 121,
      "outputs": [
        {
          "output_type": "stream",
          "text": [
            "Epoch 1 completed out of 20 val acc:  0.8874\n",
            "Epoch 2 completed out of 20 val acc:  0.9028\n",
            "Epoch 3 completed out of 20 val acc:  0.9136\n",
            "Epoch 4 completed out of 20 val acc:  0.92\n",
            "Epoch 5 completed out of 20 val acc:  0.9236\n",
            "Epoch 6 completed out of 20 val acc:  0.9286\n",
            "Epoch 7 completed out of 20 val acc:  0.9282\n",
            "Epoch 8 completed out of 20 val acc:  0.9308\n",
            "Epoch 9 completed out of 20 val acc:  0.9346\n",
            "Epoch 10 completed out of 20 val acc:  0.9338\n",
            "Epoch 11 completed out of 20 val acc:  0.936\n",
            "Epoch 12 completed out of 20 val acc:  0.9358\n",
            "Epoch 13 completed out of 20 val acc:  0.9346\n",
            "Epoch 14 completed out of 20 val acc:  0.939\n",
            "Epoch 15 completed out of 20 val acc:  0.9362\n",
            "Epoch 16 completed out of 20 val acc:  0.9376\n",
            "Epoch 17 completed out of 20 val acc:  0.9352\n",
            "Epoch 18 completed out of 20 val acc:  0.9388\n",
            "Epoch 19 completed out of 20 val acc:  0.9384\n",
            "Epoch 20 completed out of 20 val acc:  0.9374\n",
            "126.8205235004425 sec\n",
            "\n",
            "\n",
            "TEST ACC :  0.9381 \n",
            "\n",
            "Training Over. \n",
            "Now you are a SuperSaiyan\n",
            "\n"
          ],
          "name": "stdout"
        }
      ]
    },
    {
      "metadata": {
        "id": "HwZecYR5yIxe",
        "colab_type": "code",
        "colab": {
          "base_uri": "https://localhost:8080/",
          "height": 546
        },
        "outputId": "6fef9039-dee4-47a7-a422-9700600c920c"
      },
      "cell_type": "code",
      "source": [
        "loss_go=go.Scatter(x=x_axis1,y=epoch_loss)\n",
        "val_acc_go=go.Scatter(x=x_axis2[1:],y=val_acc[1:], name='validation accuracy')\n",
        "train_acc_go=go.Scatter(x=x_axis2[1:],y=train_acc[1:], name='training accuracy')\n",
        "test_acc_go=go.Scatter(x=x_axis2[1:],y=test_acc[1:], name='testing accuracy')\n",
        "\n",
        "data=([loss_go])\n",
        "py.iplot(data,filename='sgd_loss')"
      ],
      "execution_count": 122,
      "outputs": [
        {
          "output_type": "execute_result",
          "data": {
            "text/html": [
              "<iframe id=\"igraph\" scrolling=\"no\" style=\"border:none;\" seamless=\"seamless\" src=\"https://plot.ly/~ymehta95/32.embed\" height=\"525px\" width=\"100%\"></iframe>"
            ],
            "text/plain": [
              "<plotly.tools.PlotlyDisplay object>"
            ]
          },
          "metadata": {
            "tags": []
          },
          "execution_count": 122
        }
      ]
    },
    {
      "metadata": {
        "id": "s04G7ji-yIxi",
        "colab_type": "code",
        "colab": {
          "base_uri": "https://localhost:8080/",
          "height": 546
        },
        "outputId": "4e0ca7b2-67d3-4fb6-ed15-aebce8992c46"
      },
      "cell_type": "code",
      "source": [
        "data=([val_acc_go,train_acc_go,test_acc_go])\n",
        "py.iplot(data,filename='sgd_acc')"
      ],
      "execution_count": 123,
      "outputs": [
        {
          "output_type": "execute_result",
          "data": {
            "text/html": [
              "<iframe id=\"igraph\" scrolling=\"no\" style=\"border:none;\" seamless=\"seamless\" src=\"https://plot.ly/~ymehta95/34.embed\" height=\"525px\" width=\"100%\"></iframe>"
            ],
            "text/plain": [
              "<plotly.tools.PlotlyDisplay object>"
            ]
          },
          "metadata": {
            "tags": []
          },
          "execution_count": 123
        }
      ]
    },
    {
      "metadata": {
        "id": "p6BvGz48X3_B",
        "colab_type": "code",
        "colab": {
          "base_uri": "https://localhost:8080/",
          "height": 546
        },
        "outputId": "f3559fec-e866-4799-b7e4-3a51e9f99df3"
      },
      "cell_type": "code",
      "source": [
        "test_acc_adam_go=go.Scatter(x=x_axis2[1:],y=test_acc_adam[1:], name='Adam')\n",
        "test_acc_rmsprop_go=go.Scatter(x=x_axis2[1:],y=test_acc_rmsprop[1:], name='RMSProp')\n",
        "test_acc_sgd_go=go.Scatter(x=x_axis2[1:],y=test_acc_sgd[1:], name='SGD')\n",
        "\n",
        "data=([test_acc_adam_go,test_acc_rmsprop_go,test_acc_sgd_go])\n",
        "py.iplot(data,filename='accuracy comparison')"
      ],
      "execution_count": 124,
      "outputs": [
        {
          "output_type": "execute_result",
          "data": {
            "text/html": [
              "<iframe id=\"igraph\" scrolling=\"no\" style=\"border:none;\" seamless=\"seamless\" src=\"https://plot.ly/~ymehta95/36.embed\" height=\"525px\" width=\"100%\"></iframe>"
            ],
            "text/plain": [
              "<plotly.tools.PlotlyDisplay object>"
            ]
          },
          "metadata": {
            "tags": []
          },
          "execution_count": 124
        }
      ]
    }
  ]
}